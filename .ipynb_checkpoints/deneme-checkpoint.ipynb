{
 "cells": [
  {
   "cell_type": "code",
   "execution_count": 2,
   "id": "ea0d4779",
   "metadata": {},
   "outputs": [],
   "source": [
    "#pip install selenium pandas"
   ]
  },
  {
   "cell_type": "code",
   "execution_count": 2,
   "id": "32b32af5",
   "metadata": {},
   "outputs": [],
   "source": [
    "import pandas as pd"
   ]
  },
  {
   "cell_type": "code",
   "execution_count": 3,
   "id": "67a7b2c7",
   "metadata": {},
   "outputs": [],
   "source": [
    "\n",
    "df = pd.read_excel('47.xlsx', header=None)  # 'header=None' sütun adlarının olmadığını belirtir\n",
    "\n",
    "df.columns = ['sirket_adi']  # Sütun adlarını burada belirtin\n",
    "\n",
    "# İlk 500 satırı alalım\n",
    "df = df.head(5)\n",
    "\n",
    "# Şirket isimlerini çekelim\n",
    "company_names = df['sirket_adi'].tolist()\n"
   ]
  },
  {
   "cell_type": "code",
   "execution_count": 4,
   "id": "d2bd33f8",
   "metadata": {},
   "outputs": [
    {
     "data": {
      "text/html": [
       "<div>\n",
       "<style scoped>\n",
       "    .dataframe tbody tr th:only-of-type {\n",
       "        vertical-align: middle;\n",
       "    }\n",
       "\n",
       "    .dataframe tbody tr th {\n",
       "        vertical-align: top;\n",
       "    }\n",
       "\n",
       "    .dataframe thead th {\n",
       "        text-align: right;\n",
       "    }\n",
       "</style>\n",
       "<table border=\"1\" class=\"dataframe\">\n",
       "  <thead>\n",
       "    <tr style=\"text-align: right;\">\n",
       "      <th></th>\n",
       "      <th>sirket_adi</th>\n",
       "    </tr>\n",
       "  </thead>\n",
       "  <tbody>\n",
       "    <tr>\n",
       "      <th>0</th>\n",
       "      <td>Luminova GmbH</td>\n",
       "    </tr>\n",
       "    <tr>\n",
       "      <th>1</th>\n",
       "      <td>Baja Winery Tours</td>\n",
       "    </tr>\n",
       "    <tr>\n",
       "      <th>2</th>\n",
       "      <td>winechina.com</td>\n",
       "    </tr>\n",
       "    <tr>\n",
       "      <th>3</th>\n",
       "      <td>Tcp Solutions Plc</td>\n",
       "    </tr>\n",
       "    <tr>\n",
       "      <th>4</th>\n",
       "      <td>New Well Tech Industries - India</td>\n",
       "    </tr>\n",
       "  </tbody>\n",
       "</table>\n",
       "</div>"
      ],
      "text/plain": [
       "                         sirket_adi\n",
       "0                     Luminova GmbH\n",
       "1                 Baja Winery Tours\n",
       "2                     winechina.com\n",
       "3                 Tcp Solutions Plc\n",
       "4  New Well Tech Industries - India"
      ]
     },
     "execution_count": 4,
     "metadata": {},
     "output_type": "execute_result"
    }
   ],
   "source": [
    "df"
   ]
  },
  {
   "cell_type": "code",
   "execution_count": 5,
   "id": "d0ee0e67",
   "metadata": {},
   "outputs": [],
   "source": [
    "from selenium import webdriver\n",
    "from selenium.webdriver.common.by import By\n",
    "from selenium.webdriver.common.keys import Keys\n",
    "import time"
   ]
  },
  {
   "cell_type": "code",
   "execution_count": 6,
   "id": "0e7214aa",
   "metadata": {},
   "outputs": [],
   "source": [
    "# ChromeDriver ile tarayıcıyı başlatın\n",
    "driver = webdriver.Chrome()"
   ]
  },
  {
   "cell_type": "code",
   "execution_count": null,
   "id": "f6ddf16a",
   "metadata": {},
   "outputs": [],
   "source": [
    "\n",
    "# 2. Selenium ile Google araması yap ve web sitelerini bul\n",
    "driver = webdriver.Chrome()  # Tarayıcıyı başlat\n",
    "\n",
    "websites = []  # Web sitelerini saklayacağımız liste\n",
    "\n",
    "for company in company_names:\n",
    "    # Google ana sayfasını aç\n",
    "    driver.get(\"https://www.google.com\")\n",
    "\n",
    "    # Arama kutusunu bul ve \"şirket adı web sitesi\" olarak arat\n",
    "    search_box = driver.find_element(By.NAME, 'q')\n",
    "    search_query = f\"{company} web sitesi\"\n",
    "    search_box.send_keys(search_query)\n",
    "    search_box.send_keys(Keys.RETURN)\n",
    "\n",
    "    # Sayfanın yüklenmesini bekle\n",
    "    time.sleep(2)\n",
    "\n",
    "    try:\n",
    "        # İlk organik sonucu bul ve tıkla (reklamları atla)\n",
    "        result = driver.find_element(By.XPATH, '//h3')\n",
    "        result.click()\n",
    "\n",
    "        # Gidilen sayfanın URL'sini al\n",
    "        website = driver.current_url\n",
    "        \n",
    "        # Geçersiz siteleri kontrol et (örneğin '404' sayfası veya hatalı yönlendirme)\n",
    "        if \"404\" in driver.page_source or \"This site can’t be reached\" in driver.page_source:\n",
    "            website = \"Geçersiz site\"  # Hatalı siteleri \"Geçersiz site\" olarak işaretle\n",
    "    except Exception as e:\n",
    "        website = \"Site bulunamadı\"  # Eğer bir hata olursa site bulunamadı yazılır\n",
    "\n",
    "    websites.append(website)\n",
    "\n",
    "# Tarayıcıyı kapat\n",
    "driver.quit()\n",
    "\n",
    "# 3. Web sitelerini ayrı bir CSV dosyasına kaydet\n",
    "results_df = pd.DataFrame({\n",
    "    'sirket_adi': company_names,\n",
    "    'website': websites\n",
    "})\n",
    "\n",
    "# Sonuçları bir CSV dosyasına kaydet\n",
    "results_df.to_csv('sirket_websiteleri_sonuclar.csv', index=False)\n",
    "\n",
    "print(\"Geçersiz siteler atlandı ve web siteleri CSV dosyasına kaydedildi.\")"
   ]
  },
  {
   "cell_type": "code",
   "execution_count": null,
   "id": "deb0ab4b",
   "metadata": {},
   "outputs": [],
   "source": []
  },
  {
   "cell_type": "code",
   "execution_count": null,
   "id": "2d3151d9",
   "metadata": {},
   "outputs": [],
   "source": []
  }
 ],
 "metadata": {
  "kernelspec": {
   "display_name": "Python 3 (ipykernel)",
   "language": "python",
   "name": "python3"
  },
  "language_info": {
   "codemirror_mode": {
    "name": "ipython",
    "version": 3
   },
   "file_extension": ".py",
   "mimetype": "text/x-python",
   "name": "python",
   "nbconvert_exporter": "python",
   "pygments_lexer": "ipython3",
   "version": "3.11.5"
  }
 },
 "nbformat": 4,
 "nbformat_minor": 5
}
