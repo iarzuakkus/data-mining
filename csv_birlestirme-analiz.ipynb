{
 "cells": [
  {
   "cell_type": "markdown",
   "id": "afddc3c3",
   "metadata": {},
   "source": [
    "## CSV Birlestirme"
   ]
  },
  {
   "cell_type": "code",
   "execution_count": 50,
   "id": "5e702c87",
   "metadata": {},
   "outputs": [],
   "source": [
    "import pandas as pd\n",
    "\n",
    "\n",
    "# Dosya yolunu ve sırasını belirt\n",
    "file_paths = [\n",
    "    \"sirket_websiteleri_sonuclar0_1000.csv\",\n",
    "    \"sirket_websiteleri_sonuclar1000_3000.csv\",\n",
    "    \"sirket_websiteleri_sonuclar3000_5000.csv\",\n",
    "    \"sirket_websiteleri_sonuclar5000_7000.csv\",\n",
    "    \"sirket_websiteleri_sonuclar7000_8000.csv\",\n",
    "    \"sirket_websiteleri_sonuclar8000_11000.csv\",\n",
    "    \"sirket_websiteleri_sonuclar11000_12000.csv\",\n",
    "    \"sirket_websiteleri_sonuclar12000_14000.csv\",\n",
    "    \"sirket_websiteleri_sonuclar14000_15000.csv\",\n",
    "    \"sirket_websiteleri_sonuclar15000_18000.csv\",\n",
    "    \"sirket_websiteleri_sonuclar18000_18500.csv\",\n",
    "    \"sirket_websiteleri_sonuclar18500_19000.csv\",\n",
    "    \"sirket_websiteleri_sonuclar19000_21000.csv\",\n",
    "    \"sirket_websiteleri_sonuclar21000_23000.csv\",\n",
    "    \"sirket_websiteleri_sonuclar23000_23666.csv\",\n",
    "    \"sirket_websiteleri_sonuclar23666_25000.csv\"\n",
    "]\n",
    "\n",
    "# Her dosyayı sırayla okuyup bir listeye ekleyin\n",
    "data_frames = [pd.read_csv(file) for file in file_paths]\n",
    "\n",
    "# DataFrame'leri birleştirin\n",
    "combined_df = pd.concat(data_frames, ignore_index=True)\n",
    "\n",
    "# Yeni dosyayı kaydetme\n",
    "combined_df.to_csv(\"sirket_websiteleri_sonuclar0_25000.csv\", index=False)"
   ]
  },
  {
   "cell_type": "code",
   "execution_count": 51,
   "id": "8dd71ff9",
   "metadata": {},
   "outputs": [
    {
     "name": "stdout",
     "output_type": "stream",
     "text": [
      "<class 'pandas.core.frame.DataFrame'>\n",
      "RangeIndex: 25000 entries, 0 to 24999\n",
      "Data columns (total 2 columns):\n",
      " #   Column      Non-Null Count  Dtype \n",
      "---  ------      --------------  ----- \n",
      " 0   sirket_adi  24993 non-null  object\n",
      " 1   website     25000 non-null  object\n",
      "dtypes: object(2)\n",
      "memory usage: 390.8+ KB\n"
     ]
    }
   ],
   "source": [
    "combined_df.info()"
   ]
  },
  {
   "cell_type": "code",
   "execution_count": 52,
   "id": "0a91dff3",
   "metadata": {},
   "outputs": [
    {
     "name": "stdout",
     "output_type": "stream",
     "text": [
      "<class 'pandas.core.frame.DataFrame'>\n",
      "RangeIndex: 25000 entries, 0 to 24999\n",
      "Data columns (total 2 columns):\n",
      " #   Column      Non-Null Count  Dtype \n",
      "---  ------      --------------  ----- \n",
      " 0   sirket_adi  24993 non-null  object\n",
      " 1   website     24939 non-null  object\n",
      "dtypes: object(2)\n",
      "memory usage: 390.8+ KB\n"
     ]
    }
   ],
   "source": [
    "import numpy as np\n",
    "# \"Site bulunamadı\" olan hücreleri NaN ile değiştirme\n",
    "combined_df['website'] = combined_df['website'].replace('Site bulunamadı', np.nan)\n",
    "combined_df.info()"
   ]
  },
  {
   "cell_type": "code",
   "execution_count": 66,
   "id": "346e38ab",
   "metadata": {},
   "outputs": [
    {
     "data": {
      "text/html": [
       "<div>\n",
       "<style scoped>\n",
       "    .dataframe tbody tr th:only-of-type {\n",
       "        vertical-align: middle;\n",
       "    }\n",
       "\n",
       "    .dataframe tbody tr th {\n",
       "        vertical-align: top;\n",
       "    }\n",
       "\n",
       "    .dataframe thead th {\n",
       "        text-align: right;\n",
       "    }\n",
       "</style>\n",
       "<table border=\"1\" class=\"dataframe\">\n",
       "  <thead>\n",
       "    <tr style=\"text-align: right;\">\n",
       "      <th></th>\n",
       "      <th>sirket_adi</th>\n",
       "      <th>website</th>\n",
       "    </tr>\n",
       "  </thead>\n",
       "  <tbody>\n",
       "    <tr>\n",
       "      <th>3395</th>\n",
       "      <td>NaN</td>\n",
       "      <td>https://www.nanonline.org/</td>\n",
       "    </tr>\n",
       "    <tr>\n",
       "      <th>4603</th>\n",
       "      <td>NaN</td>\n",
       "      <td>https://www.nanonline.org/</td>\n",
       "    </tr>\n",
       "    <tr>\n",
       "      <th>13079</th>\n",
       "      <td>NaN</td>\n",
       "      <td>https://www.nanonline.org/</td>\n",
       "    </tr>\n",
       "    <tr>\n",
       "      <th>15514</th>\n",
       "      <td>NaN</td>\n",
       "      <td>https://www.nanonline.org/</td>\n",
       "    </tr>\n",
       "    <tr>\n",
       "      <th>18319</th>\n",
       "      <td>NaN</td>\n",
       "      <td>https://www.nanonline.org/</td>\n",
       "    </tr>\n",
       "    <tr>\n",
       "      <th>19930</th>\n",
       "      <td>NaN</td>\n",
       "      <td>https://www.nanonline.org/</td>\n",
       "    </tr>\n",
       "    <tr>\n",
       "      <th>24576</th>\n",
       "      <td>NaN</td>\n",
       "      <td>https://www.nanonline.org/</td>\n",
       "    </tr>\n",
       "  </tbody>\n",
       "</table>\n",
       "</div>"
      ],
      "text/plain": [
       "      sirket_adi                     website\n",
       "3395         NaN  https://www.nanonline.org/\n",
       "4603         NaN  https://www.nanonline.org/\n",
       "13079        NaN  https://www.nanonline.org/\n",
       "15514        NaN  https://www.nanonline.org/\n",
       "18319        NaN  https://www.nanonline.org/\n",
       "19930        NaN  https://www.nanonline.org/\n",
       "24576        NaN  https://www.nanonline.org/"
      ]
     },
     "execution_count": 66,
     "metadata": {},
     "output_type": "execute_result"
    }
   ],
   "source": [
    "combined_df[combined_df['sirket_adi'].isna()]"
   ]
  },
  {
   "cell_type": "code",
   "execution_count": 75,
   "id": "5b15bf54",
   "metadata": {
    "scrolled": true
   },
   "outputs": [
    {
     "name": "stdout",
     "output_type": "stream",
     "text": [
      "<class 'pandas.core.frame.DataFrame'>\n",
      "RangeIndex: 25000 entries, 0 to 24999\n",
      "Data columns (total 2 columns):\n",
      " #   Column      Non-Null Count  Dtype \n",
      "---  ------      --------------  ----- \n",
      " 0   sirket_adi  24993 non-null  object\n",
      " 1   website     25000 non-null  object\n",
      "dtypes: object(2)\n",
      "memory usage: 390.8+ KB\n"
     ]
    }
   ],
   "source": [
    "DF = pd.read_csv('sirket_websiteleri_sonuclar0_25000.csv')\n",
    "DF.info()"
   ]
  },
  {
   "cell_type": "code",
   "execution_count": 77,
   "id": "11d89d01",
   "metadata": {},
   "outputs": [],
   "source": [
    "\n",
    "import numpy as np\n",
    "# \"Site bulunamadı\" olan hücreleri NaN ile değiştirme\n",
    "DF['website'] = DF['website'].replace('Site bulunamadı', np.nan)"
   ]
  },
  {
   "cell_type": "code",
   "execution_count": 78,
   "id": "e16776cd",
   "metadata": {},
   "outputs": [
    {
     "name": "stdout",
     "output_type": "stream",
     "text": [
      "<class 'pandas.core.frame.DataFrame'>\n",
      "RangeIndex: 25000 entries, 0 to 24999\n",
      "Data columns (total 2 columns):\n",
      " #   Column      Non-Null Count  Dtype \n",
      "---  ------      --------------  ----- \n",
      " 0   sirket_adi  24993 non-null  object\n",
      " 1   website     24939 non-null  object\n",
      "dtypes: object(2)\n",
      "memory usage: 390.8+ KB\n"
     ]
    }
   ],
   "source": [
    "DF.info()"
   ]
  },
  {
   "cell_type": "code",
   "execution_count": 82,
   "id": "2eb5c7cb",
   "metadata": {},
   "outputs": [],
   "source": [
    "a1= pd.read_csv('sirket_websiteleri_dork_sonuclar0_1000.csv')\n",
    "a2= pd.read_csv('sirket_websiteleri_dork_sonuclar1000_2000.csv')\n",
    "a3= pd.read_csv('sirket_websiteleri_dork_sonuclar2000_3000.csv')\n",
    "a4= pd.read_csv('sirket_websiteleri_dork_sonuclar3000_4000.csv')\n",
    "a5= pd.read_csv('sirket_websiteleri_dork_sonuclar4000_5000.csv')\n",
    "a6= pd.read_csv('sirket_websiteleri_dork_sonuclar5000_6000.csv')\n",
    "a7= pd.read_csv('sirket_websiteleri_dork_sonuclar6000_7000.csv')"
   ]
  },
  {
   "cell_type": "code",
   "execution_count": 85,
   "id": "34da42e6",
   "metadata": {},
   "outputs": [],
   "source": [
    "# DataFrame'leri birleştirme\n",
    "merged_df = pd.concat([a1, a2, a3, a4, a5, a6, a7], ignore_index=True)\n",
    "\n",
    "# Birleştirilen veriyi yeni bir CSV dosyasına kaydetme\n",
    "merged_file_path = 'sirket_websiteleri_dork_sonuclar0_7000.csv'\n",
    "merged_df.to_csv(merged_file_path, index=False)\n"
   ]
  },
  {
   "cell_type": "code",
   "execution_count": 86,
   "id": "61b54925",
   "metadata": {
    "scrolled": true
   },
   "outputs": [
    {
     "name": "stdout",
     "output_type": "stream",
     "text": [
      "<class 'pandas.core.frame.DataFrame'>\n",
      "RangeIndex: 7000 entries, 0 to 6999\n",
      "Data columns (total 5 columns):\n",
      " #   Column      Non-Null Count  Dtype \n",
      "---  ------      --------------  ----- \n",
      " 0   sirket_adi  6998 non-null   object\n",
      " 1   website     6981 non-null   object\n",
      " 2   snippets    6403 non-null   object\n",
      " 3   email       3349 non-null   object\n",
      " 4   telefon     4091 non-null   object\n",
      "dtypes: object(5)\n",
      "memory usage: 273.6+ KB\n"
     ]
    }
   ],
   "source": [
    "merged_df.info()"
   ]
  },
  {
   "cell_type": "code",
   "execution_count": 87,
   "id": "977f8e64",
   "metadata": {},
   "outputs": [
    {
     "data": {
      "text/plain": [
       "0.5774507002000572"
      ]
     },
     "execution_count": 87,
     "metadata": {},
     "output_type": "execute_result"
    }
   ],
   "source": [
    "4041/6998"
   ]
  },
  {
   "cell_type": "code",
   "execution_count": 91,
   "id": "5e6d8710",
   "metadata": {},
   "outputs": [
    {
     "data": {
      "text/plain": [
       "0.4785653043726779"
      ]
     },
     "execution_count": 91,
     "metadata": {},
     "output_type": "execute_result"
    }
   ],
   "source": [
    "3349/6998"
   ]
  },
  {
   "cell_type": "code",
   "execution_count": 100,
   "id": "81ce378d",
   "metadata": {
    "scrolled": true
   },
   "outputs": [
    {
     "data": {
      "text/plain": [
       "0.5735"
      ]
     },
     "execution_count": 100,
     "metadata": {},
     "output_type": "execute_result"
    }
   ],
   "source": [
    "1147/2000 "
   ]
  },
  {
   "cell_type": "code",
   "execution_count": 2,
   "id": "b467c2c3",
   "metadata": {},
   "outputs": [],
   "source": [
    "import pandas as pd\n",
    "\n",
    "# Dosya yolunu ve sırasını belirt\n",
    "file_paths = [\n",
    "    \"sirket_websiteleri_dork_sonuclar7000_8000.csv\",\n",
    "    \"sirket_websiteleri_dork_sonuclar8000_10000.csv\",\n",
    "    \"sirket_websiteleri_dork_sonuclar10000_11000.csv\",\n",
    "    \"sirket_websiteleri_dork_sonuclar11000_13000.csv\",\n",
    "    \"sirket_websiteleri_dork_sonuclar13000_15000.csv\",\n",
    "    \"sirket_websiteleri_dork_sonuclar15000_16000.csv\",\n",
    "    \"sirket_websiteleri_dork_sonuclar16000_18000.csv\",\n",
    "    \"sirket_websiteleri_dork_sonuclar18000_20000.csv\",\n",
    "    \"sirket_websiteleri_dork_sonuclar20000_21950.csv\",\n",
    "    \"sirket_websiteleri_dork_sonuclar21950_22000.csv\",\n",
    "    \"sirket_websiteleri_dork_sonuclar22000_22300.csv\",\n",
    "    \"sirket_websiteleri_dork_sonuclar22300_22500.csv\",\n",
    "    \"sirket_websiteleri_dork_sonuclar22500_22630.csv\",\n",
    "    \"sirket_websiteleri_dork_sonuclar22630_22750.csv\",\n",
    "    \"sirket_websiteleri_dork_sonuclar22750_23000.csv\",\n",
    "    \"sirket_websiteleri_dork_sonuclar23000_24000.csv\",\n",
    "    \"sirket_websiteleri_dork_sonuclar24000_25000.csv\"\n",
    "]\n",
    "\n",
    "# Her dosyayı sırayla okuyup bir listeye ekleyin\n",
    "data_frames = [pd.read_csv(file) for file in file_paths]\n",
    "\n",
    "# DataFrame'leri birleştirin\n",
    "combined_df = pd.concat(data_frames, ignore_index=True)\n",
    "\n",
    "# Yeni dosyayı kaydetme\n",
    "combined_df.to_csv(\"sirket_websiteleri_dork_sonuclar7000_25000.csv\", index=False)"
   ]
  },
  {
   "cell_type": "code",
   "execution_count": 6,
   "id": "e1c36eca",
   "metadata": {},
   "outputs": [],
   "source": [
    "b = pd.read_csv('sirket_websiteleri_dork_sonuclar7000_25000.csv')\n",
    "a = pd.read_csv('sirket_websiteleri_dork_sonuclar0_7000.csv')"
   ]
  },
  {
   "cell_type": "code",
   "execution_count": 7,
   "id": "f4bfc591",
   "metadata": {},
   "outputs": [],
   "source": [
    "# DataFrame'leri birleştirme\n",
    "merged_df = pd.concat([a, b], ignore_index=True)\n",
    "\n",
    "# Birleştirilen veriyi yeni bir CSV dosyasına kaydetme\n",
    "merged_file_path = 'sirket_websiteleri_dork_sonuclar0_25000.csv'\n",
    "merged_df.to_csv(merged_file_path, index=False)"
   ]
  },
  {
   "cell_type": "code",
   "execution_count": 39,
   "id": "b76ca320",
   "metadata": {},
   "outputs": [],
   "source": [
    "dork_sonuclar = pd.read_csv('sirket_websiteleri_dork_sonuclar0_25000.csv')"
   ]
  },
  {
   "cell_type": "code",
   "execution_count": 40,
   "id": "3e7db922",
   "metadata": {
    "scrolled": true
   },
   "outputs": [
    {
     "name": "stdout",
     "output_type": "stream",
     "text": [
      "<class 'pandas.core.frame.DataFrame'>\n",
      "RangeIndex: 25000 entries, 0 to 24999\n",
      "Data columns (total 5 columns):\n",
      " #   Column      Non-Null Count  Dtype \n",
      "---  ------      --------------  ----- \n",
      " 0   sirket_adi  24993 non-null  object\n",
      " 1   website     24939 non-null  object\n",
      " 2   snippets    22975 non-null  object\n",
      " 3   email       12138 non-null  object\n",
      " 4   telefon     14543 non-null  object\n",
      "dtypes: object(5)\n",
      "memory usage: 976.7+ KB\n"
     ]
    }
   ],
   "source": [
    "dork_sonuclar.info()"
   ]
  },
  {
   "cell_type": "code",
   "execution_count": 41,
   "id": "7676856c",
   "metadata": {},
   "outputs": [
    {
     "data": {
      "text/plain": [
       "{'Intersection (Both Email and Telefon present)': 9673,\n",
       " 'A \\\\ B (Only Email present)': 2465,\n",
       " 'B \\\\ A (Only Telefon present)': 4870,\n",
       " 'None (Both Email and Telefon absent)': 7992,\n",
       " 'Union (Either Email or Telefon present)': 17008}"
      ]
     },
     "execution_count": 41,
     "metadata": {},
     "output_type": "execute_result"
    }
   ],
   "source": [
    "import pandas as pd\n",
    "import numpy as np\n",
    "\n",
    "# Calculating the statistics again as per the clarified requirements\n",
    "# Counting each case without adding it as a column in the DataFrame\n",
    "set_operations_counts_detailed = {\n",
    "    \"Intersection (Both Email and Telefon present)\": ((dork_sonuclar['email'].notna()) & (dork_sonuclar['telefon'].notna())).sum(),\n",
    "    \"A \\\\ B (Only Email present)\": ((dork_sonuclar['email'].notna()) & (dork_sonuclar['telefon'].isna())).sum(),\n",
    "    \"B \\\\ A (Only Telefon present)\": ((dork_sonuclar['telefon'].notna()) & (dork_sonuclar['email'].isna())).sum(),\n",
    "    \"None (Both Email and Telefon absent)\": ((dork_sonuclar['email'].isna()) & (dork_sonuclar['telefon'].isna())).sum(),\n",
    "    \"Union (Either Email or Telefon present)\": ((dork_sonuclar['email'].notna()) | (dork_sonuclar['telefon'].notna())).sum()\n",
    "}\n",
    "set_operations_counts_detailed"
   ]
  },
  {
   "cell_type": "code",
   "execution_count": 42,
   "id": "9f96d67a",
   "metadata": {},
   "outputs": [
    {
     "data": {
      "image/png": "[encoded data removed]",
      "text/plain": [
       "<Figure size 1000x600 with 1 Axes>"
      ]
     },
     "metadata": {},
     "output_type": "display_data"
    }
   ],
   "source": [
    "# Using the provided values for counts and calculating remaining counts based on a total of 25,000\n",
    "stats_counts = {\n",
    "    \"Intersection (Both Email and Telefon present)\": 9666,\n",
    "    \"A \\\\ B (Only Email present)\": 2465,\n",
    "    \"B \\\\ A (Only Telefon present)\": 4870,\n",
    "    \"None (Both Email and Telefon absent)\": 7999,\n",
    "    \"Union (Either Email or Telefon present)\": 17001\n",
    "}\n",
    "\n",
    "# Total records as specified\n",
    "total_records = 25000\n",
    "\n",
    "# Extracting counts and calculating remaining counts based on total\n",
    "categories = list(stats_counts.keys())\n",
    "counts = list(stats_counts.values())\n",
    "remaining_counts = [total_records - count for count in counts]\n",
    "\n",
    "# Plotting the data as a stacked bar chart with each bar divided into count and remaining proportion\n",
    "fig, ax = plt.subplots(figsize=(10, 6))\n",
    "\n",
    "# Plot each category with a bar that has two parts: count (filled) and remaining (empty)\n",
    "for i, category in enumerate(categories):\n",
    "    # Filled part of the bar (actual count)\n",
    "    ax.bar(i, counts[i], color='blue', label='Category Count' if i == 0 else \"\")\n",
    "\n",
    "    # Empty part of the bar (remaining to reach 25000)\n",
    "    ax.bar(i, remaining_counts[i], bottom=counts[i], color='lightgrey', label='Remaining to 25000' if i == 0 else \"\")\n",
    "\n",
    "# Customizing the chart\n",
    "ax.set_xticks(range(len(categories)))\n",
    "ax.set_xticklabels(categories, rotation=45, ha='right')\n",
    "ax.set_ylabel(\"Count\")\n",
    "ax.set_title(\"Category Counts with Remaining Proportion to 25,000\")\n",
    "ax.legend()\n",
    "\n",
    "plt.tight_layout()\n",
    "plt.show()\n"
   ]
  },
  {
   "cell_type": "code",
   "execution_count": 43,
   "id": "3a619692",
   "metadata": {},
   "outputs": [
    {
     "name": "stdout",
     "output_type": "stream",
     "text": [
      "<class 'pandas.core.frame.DataFrame'>\n",
      "RangeIndex: 25000 entries, 0 to 24999\n",
      "Data columns (total 5 columns):\n",
      " #   Column      Non-Null Count  Dtype \n",
      "---  ------      --------------  ----- \n",
      " 0   sirket_adi  24993 non-null  object\n",
      " 1   website     24939 non-null  object\n",
      " 2   snippets    22975 non-null  object\n",
      " 3   email       12138 non-null  object\n",
      " 4   telefon     14543 non-null  object\n",
      "dtypes: object(5)\n",
      "memory usage: 976.7+ KB\n"
     ]
    }
   ],
   "source": [
    "dork_sonuclar.info()"
   ]
  },
  {
   "cell_type": "code",
   "execution_count": 44,
   "id": "f6f18058",
   "metadata": {},
   "outputs": [
    {
     "data": {
      "text/plain": [
       "0.48524"
      ]
     },
     "execution_count": 44,
     "metadata": {},
     "output_type": "execute_result"
    }
   ],
   "source": [
    "12131 / 25000 "
   ]
  },
  {
   "cell_type": "code",
   "execution_count": 45,
   "id": "5112ee7c",
   "metadata": {},
   "outputs": [
    {
     "data": {
      "text/plain": [
       "0.58144"
      ]
     },
     "execution_count": 45,
     "metadata": {},
     "output_type": "execute_result"
    }
   ],
   "source": [
    "14536 / 25000"
   ]
  },
  {
   "cell_type": "code",
   "execution_count": 47,
   "id": "e156453a",
   "metadata": {},
   "outputs": [],
   "source": [
    "# 'website' sütununda NaN olan satırlarda 'snippets', 'email' ve 'telefon' sütunlarını da NaN yapma\n",
    "dork_sonuclar.loc[dork_sonuclar['website'].isna(), ['snippets', 'email', 'telefon']] = np.nan"
   ]
  },
  {
   "cell_type": "code",
   "execution_count": 48,
   "id": "1c4085ac",
   "metadata": {
    "scrolled": true
   },
   "outputs": [
    {
     "name": "stdout",
     "output_type": "stream",
     "text": [
      "<class 'pandas.core.frame.DataFrame'>\n",
      "RangeIndex: 25000 entries, 0 to 24999\n",
      "Data columns (total 5 columns):\n",
      " #   Column      Non-Null Count  Dtype \n",
      "---  ------      --------------  ----- \n",
      " 0   sirket_adi  24993 non-null  object\n",
      " 1   website     24939 non-null  object\n",
      " 2   snippets    22914 non-null  object\n",
      " 3   email       12077 non-null  object\n",
      " 4   telefon     14482 non-null  object\n",
      "dtypes: object(5)\n",
      "memory usage: 976.7+ KB\n"
     ]
    }
   ],
   "source": [
    "dork_sonuclar.info()"
   ]
  },
  {
   "cell_type": "code",
   "execution_count": 68,
   "id": "c203c373",
   "metadata": {},
   "outputs": [
    {
     "data": {
      "text/plain": [
       "{'Intersection (Both Email and Telefon present)': 9612,\n",
       " 'A \\\\ B (Only Email present)': 2465,\n",
       " 'B \\\\ A (Only Telefon present)': 4870,\n",
       " 'None (Both Email and Telefon absent)': 8053,\n",
       " 'Union (Either Email or Telefon present)': 16947}"
      ]
     },
     "execution_count": 68,
     "metadata": {},
     "output_type": "execute_result"
    }
   ],
   "source": [
    "# Calculating the statistics again as per the clarified requirements\n",
    "# Counting each case without adding it as a column in the DataFrame\n",
    "set_operations_counts_detailed = {\n",
    "    \"Intersection (Both Email and Telefon present)\": ((dork_sonuclar['email'].notna()) & (dork_sonuclar['telefon'].notna())).sum(),\n",
    "    \"A \\\\ B (Only Email present)\": ((dork_sonuclar['email'].notna()) & (dork_sonuclar['telefon'].isna())).sum(),\n",
    "    \"B \\\\ A (Only Telefon present)\": ((dork_sonuclar['telefon'].notna()) & (dork_sonuclar['email'].isna())).sum(),\n",
    "    \"None (Both Email and Telefon absent)\": ((dork_sonuclar['email'].isna()) & (dork_sonuclar['telefon'].isna())).sum(),\n",
    "    \"Union (Either Email or Telefon present)\": ((dork_sonuclar['email'].notna()) | (dork_sonuclar['telefon'].notna())).sum()\n",
    "}\n",
    "set_operations_counts_detailed"
   ]
  },
  {
   "cell_type": "code",
   "execution_count": 49,
   "id": "c1415c3a",
   "metadata": {},
   "outputs": [],
   "source": [
    "# 'snippets' kolonunu silme\n",
    "dork_sonuclar = dork_sonuclar.drop(columns=[\"snippets\"])"
   ]
  },
  {
   "cell_type": "code",
   "execution_count": 50,
   "id": "a1aa54c0",
   "metadata": {},
   "outputs": [
    {
     "name": "stdout",
     "output_type": "stream",
     "text": [
      "<class 'pandas.core.frame.DataFrame'>\n",
      "RangeIndex: 25000 entries, 0 to 24999\n",
      "Data columns (total 4 columns):\n",
      " #   Column      Non-Null Count  Dtype \n",
      "---  ------      --------------  ----- \n",
      " 0   sirket_adi  24993 non-null  object\n",
      " 1   website     24939 non-null  object\n",
      " 2   email       12077 non-null  object\n",
      " 3   telefon     14482 non-null  object\n",
      "dtypes: object(4)\n",
      "memory usage: 781.4+ KB\n"
     ]
    }
   ],
   "source": [
    "dork_sonuclar.info()"
   ]
  },
  {
   "cell_type": "code",
   "execution_count": 51,
   "id": "7ab26dac",
   "metadata": {},
   "outputs": [],
   "source": [
    "# Dosya adı değişkenini tanımlayın (daha sonra kolayca değiştirilebilir)\n",
    "csv_file_name = 'sirket_iletisim_bilgileri.csv'\n",
    "\n",
    "dork_sonuclar.to_csv(csv_file_name, index=False, encoding='utf-8')"
   ]
  },
  {
   "cell_type": "code",
   "execution_count": 52,
   "id": "6571421d",
   "metadata": {},
   "outputs": [],
   "source": [
    "deneme = pd.read_csv('sirket_iletisim_bilgileri0_100.csv')"
   ]
  },
  {
   "cell_type": "code",
   "execution_count": 61,
   "id": "6ed99502",
   "metadata": {},
   "outputs": [
    {
     "data": {
      "text/html": [
       "<div>\n",
       "<style scoped>\n",
       "    .dataframe tbody tr th:only-of-type {\n",
       "        vertical-align: middle;\n",
       "    }\n",
       "\n",
       "    .dataframe tbody tr th {\n",
       "        vertical-align: top;\n",
       "    }\n",
       "\n",
       "    .dataframe thead th {\n",
       "        text-align: right;\n",
       "    }\n",
       "</style>\n",
       "<table border=\"1\" class=\"dataframe\">\n",
       "  <thead>\n",
       "    <tr style=\"text-align: right;\">\n",
       "      <th></th>\n",
       "      <th>sirket_adi</th>\n",
       "      <th>website</th>\n",
       "      <th>email</th>\n",
       "      <th>phone</th>\n",
       "    </tr>\n",
       "  </thead>\n",
       "  <tbody>\n",
       "    <tr>\n",
       "      <th>0</th>\n",
       "      <td>Luminova GmbH</td>\n",
       "      <td>https://luminovo.com/</td>\n",
       "      <td>E-posta bulunamadı</td>\n",
       "      <td>51386</td>\n",
       "    </tr>\n",
       "    <tr>\n",
       "      <th>1</th>\n",
       "      <td>Baja Winery Tours</td>\n",
       "      <td>https://bajawinerytours.com/</td>\n",
       "      <td>E-posta bulunamadı</td>\n",
       "      <td>1729961995</td>\n",
       "    </tr>\n",
       "    <tr>\n",
       "      <th>2</th>\n",
       "      <td>winechina.com</td>\n",
       "      <td>http://www.winechina.com/en/</td>\n",
       "      <td>Zaman aşımına uğradı</td>\n",
       "      <td>Zaman aşımına uğradı</td>\n",
       "    </tr>\n",
       "    <tr>\n",
       "      <th>3</th>\n",
       "      <td>Tcp Solutions Plc</td>\n",
       "      <td>https://find-and-update.company-information.se...</td>\n",
       "      <td>E-posta bulunamadı</td>\n",
       "      <td>0 0 32 30</td>\n",
       "    </tr>\n",
       "    <tr>\n",
       "      <th>4</th>\n",
       "      <td>New Well Tech Industries - India</td>\n",
       "      <td>https://www.welltechindia.com/</td>\n",
       "      <td>info@welltechindia.com</td>\n",
       "      <td>013879</td>\n",
       "    </tr>\n",
       "    <tr>\n",
       "      <th>5</th>\n",
       "      <td>FLAT EARTH SCENERY AND STAGING LIMITED</td>\n",
       "      <td>https://www.flat-earth.co.uk/</td>\n",
       "      <td>E-posta bulunamadı</td>\n",
       "      <td>3009200</td>\n",
       "    </tr>\n",
       "    <tr>\n",
       "      <th>6</th>\n",
       "      <td>Enigma Car</td>\n",
       "      <td>https://www.enigma-r.com/</td>\n",
       "      <td>ostanek.ales@gmail.com</td>\n",
       "      <td>50273344</td>\n",
       "    </tr>\n",
       "    <tr>\n",
       "      <th>7</th>\n",
       "      <td>Cw Auto Body Inc</td>\n",
       "      <td>https://cwautobody.com/</td>\n",
       "      <td>E-posta bulunamadı</td>\n",
       "      <td>2012-09-26</td>\n",
       "    </tr>\n",
       "    <tr>\n",
       "      <th>8</th>\n",
       "      <td>Copyright 2014 Esteem Consultancy</td>\n",
       "      <td>https://www.neverbounce.com/company/esteem-psy...</td>\n",
       "      <td>John@esteemconsultancy.com.au</td>\n",
       "      <td>400 800</td>\n",
       "    </tr>\n",
       "    <tr>\n",
       "      <th>9</th>\n",
       "      <td>Philorth Plant Services Ltd</td>\n",
       "      <td>https://find-and-update.company-information.se...</td>\n",
       "      <td>E-posta bulunamadı</td>\n",
       "      <td>0 0 32 30</td>\n",
       "    </tr>\n",
       "    <tr>\n",
       "      <th>10</th>\n",
       "      <td>SM Capital AG</td>\n",
       "      <td>https://www.smcapital.sm/</td>\n",
       "      <td>info@smcapital.sm</td>\n",
       "      <td>200513161-1</td>\n",
       "    </tr>\n",
       "    <tr>\n",
       "      <th>11</th>\n",
       "      <td>Fahrschule Michael Knoll</td>\n",
       "      <td>https://fahrschule-knoll.eu/</td>\n",
       "      <td>E-posta bulunamadı</td>\n",
       "      <td>600 32</td>\n",
       "    </tr>\n",
       "    <tr>\n",
       "      <th>12</th>\n",
       "      <td>Appalachian Community Ent</td>\n",
       "      <td>https://appalachiancommunitycapitalcdfi.org/</td>\n",
       "      <td>dgambrell@acc1.org</td>\n",
       "      <td>91-0-4472</td>\n",
       "    </tr>\n",
       "    <tr>\n",
       "      <th>13</th>\n",
       "      <td>HAIRSTYLER LIMITED</td>\n",
       "      <td>https://www.thehairstyler.com/</td>\n",
       "      <td>bootstrap@4.6.0</td>\n",
       "      <td>13000</td>\n",
       "    </tr>\n",
       "    <tr>\n",
       "      <th>14</th>\n",
       "      <td>Falciani Machine Inc</td>\n",
       "      <td>https://www.govcb.com/government-vendors/profi...</td>\n",
       "      <td>E-posta bulunamadı</td>\n",
       "      <td>357588958</td>\n",
       "    </tr>\n",
       "    <tr>\n",
       "      <th>15</th>\n",
       "      <td>Georg Lehmacher</td>\n",
       "      <td>https://atelierlehmacher.de/</td>\n",
       "      <td>E-posta bulunamadı</td>\n",
       "      <td>2024-07-30</td>\n",
       "    </tr>\n",
       "    <tr>\n",
       "      <th>16</th>\n",
       "      <td>Training Police</td>\n",
       "      <td>https://www.cepol.europa.eu/</td>\n",
       "      <td>info@cepol.europa.eu</td>\n",
       "      <td>41337</td>\n",
       "    </tr>\n",
       "    <tr>\n",
       "      <th>17</th>\n",
       "      <td>13th Beach Osteopathy</td>\n",
       "      <td>https://www.13thbeachhealthservices.com.au/</td>\n",
       "      <td>E-posta bulunamadı</td>\n",
       "      <td>91-0-4472</td>\n",
       "    </tr>\n",
       "    <tr>\n",
       "      <th>18</th>\n",
       "      <td>Mike Dimaio Sales</td>\n",
       "      <td>https://www.ropesgray.com/en/people/d/michael-...</td>\n",
       "      <td>Michael.DiMaio@ropesgray.com</td>\n",
       "      <td>254920</td>\n",
       "    </tr>\n",
       "    <tr>\n",
       "      <th>19</th>\n",
       "      <td>Little Texans</td>\n",
       "      <td>https://www.littletexanschildcarecenter.com/</td>\n",
       "      <td>core-js-bundle@3.2.1</td>\n",
       "      <td>1.14709.0</td>\n",
       "    </tr>\n",
       "    <tr>\n",
       "      <th>20</th>\n",
       "      <td>Steinweible</td>\n",
       "      <td>http://www.steinweible.de/</td>\n",
       "      <td>yvonne.haufler@online.de</td>\n",
       "      <td>1724143388249</td>\n",
       "    </tr>\n",
       "    <tr>\n",
       "      <th>21</th>\n",
       "      <td>Plasma Hire Ltd</td>\n",
       "      <td>https://www.plasmascreenhire.com/</td>\n",
       "      <td>E-posta bulunamadı</td>\n",
       "      <td>101010</td>\n",
       "    </tr>\n",
       "    <tr>\n",
       "      <th>22</th>\n",
       "      <td>CALSOFT PRIVATE LIMITED</td>\n",
       "      <td>https://www.calsoftinc.com/</td>\n",
       "      <td>Zaman aşımına uğradı</td>\n",
       "      <td>Zaman aşımına uğradı</td>\n",
       "    </tr>\n",
       "    <tr>\n",
       "      <th>23</th>\n",
       "      <td>Cascana Construction Inc</td>\n",
       "      <td>https://www.cascanaconstruction.com/</td>\n",
       "      <td>info@cascanaconstruction.com</td>\n",
       "      <td>2219024</td>\n",
       "    </tr>\n",
       "    <tr>\n",
       "      <th>24</th>\n",
       "      <td>ST. CHRISTOPHERS MOTOR COMPANY LIMITED</td>\n",
       "      <td>https://www.stchristopherscars.co.uk/</td>\n",
       "      <td>E-posta bulunamadı</td>\n",
       "      <td>313131</td>\n",
       "    </tr>\n",
       "    <tr>\n",
       "      <th>25</th>\n",
       "      <td>I-Galax Web Consultant Pvt Ltd - ADsTag.com</td>\n",
       "      <td>https://rocketreach.co/i-galax-web-consultant-...</td>\n",
       "      <td>E-posta bulunamadı</td>\n",
       "      <td>06611</td>\n",
       "    </tr>\n",
       "    <tr>\n",
       "      <th>26</th>\n",
       "      <td>Access Cash Canada Co</td>\n",
       "      <td>https://www.access-cash.com/</td>\n",
       "      <td>sales@access-cash.ca</td>\n",
       "      <td>+1 888 289 3939</td>\n",
       "    </tr>\n",
       "    <tr>\n",
       "      <th>27</th>\n",
       "      <td>Rasierteladies</td>\n",
       "      <td>https://www.zoominfo.com/c/rasierteladies/5605...</td>\n",
       "      <td>jwt-searchservice@zoominfo-searchservice-1.iam...</td>\n",
       "      <td>400 800</td>\n",
       "    </tr>\n",
       "    <tr>\n",
       "      <th>28</th>\n",
       "      <td>深圳市铂恩科技有限公司</td>\n",
       "      <td>https://www.huaxiataike.com/company/LM1M1BZCWc...</td>\n",
       "      <td>Zaman aşımına uğradı</td>\n",
       "      <td>Zaman aşımına uğradı</td>\n",
       "    </tr>\n",
       "    <tr>\n",
       "      <th>29</th>\n",
       "      <td>Komazawa University</td>\n",
       "      <td>https://www.komazawa-u.ac.jp/english/</td>\n",
       "      <td>E-posta bulunamadı</td>\n",
       "      <td>261609</td>\n",
       "    </tr>\n",
       "  </tbody>\n",
       "</table>\n",
       "</div>"
      ],
      "text/plain": [
       "                                     sirket_adi  \\\n",
       "0                                 Luminova GmbH   \n",
       "1                             Baja Winery Tours   \n",
       "2                                 winechina.com   \n",
       "3                             Tcp Solutions Plc   \n",
       "4              New Well Tech Industries - India   \n",
       "5        FLAT EARTH SCENERY AND STAGING LIMITED   \n",
       "6                                    Enigma Car   \n",
       "7                              Cw Auto Body Inc   \n",
       "8             Copyright 2014 Esteem Consultancy   \n",
       "9                   Philorth Plant Services Ltd   \n",
       "10                                SM Capital AG   \n",
       "11                     Fahrschule Michael Knoll   \n",
       "12                    Appalachian Community Ent   \n",
       "13                           HAIRSTYLER LIMITED   \n",
       "14                         Falciani Machine Inc   \n",
       "15                              Georg Lehmacher   \n",
       "16                              Training Police   \n",
       "17                        13th Beach Osteopathy   \n",
       "18                            Mike Dimaio Sales   \n",
       "19                                Little Texans   \n",
       "20                                  Steinweible   \n",
       "21                              Plasma Hire Ltd   \n",
       "22                      CALSOFT PRIVATE LIMITED   \n",
       "23                     Cascana Construction Inc   \n",
       "24       ST. CHRISTOPHERS MOTOR COMPANY LIMITED   \n",
       "25  I-Galax Web Consultant Pvt Ltd - ADsTag.com   \n",
       "26                        Access Cash Canada Co   \n",
       "27                               Rasierteladies   \n",
       "28                                  深圳市铂恩科技有限公司   \n",
       "29                          Komazawa University   \n",
       "\n",
       "                                              website  \\\n",
       "0                               https://luminovo.com/   \n",
       "1                        https://bajawinerytours.com/   \n",
       "2                        http://www.winechina.com/en/   \n",
       "3   https://find-and-update.company-information.se...   \n",
       "4                      https://www.welltechindia.com/   \n",
       "5                       https://www.flat-earth.co.uk/   \n",
       "6                           https://www.enigma-r.com/   \n",
       "7                             https://cwautobody.com/   \n",
       "8   https://www.neverbounce.com/company/esteem-psy...   \n",
       "9   https://find-and-update.company-information.se...   \n",
       "10                          https://www.smcapital.sm/   \n",
       "11                       https://fahrschule-knoll.eu/   \n",
       "12       https://appalachiancommunitycapitalcdfi.org/   \n",
       "13                     https://www.thehairstyler.com/   \n",
       "14  https://www.govcb.com/government-vendors/profi...   \n",
       "15                       https://atelierlehmacher.de/   \n",
       "16                       https://www.cepol.europa.eu/   \n",
       "17        https://www.13thbeachhealthservices.com.au/   \n",
       "18  https://www.ropesgray.com/en/people/d/michael-...   \n",
       "19       https://www.littletexanschildcarecenter.com/   \n",
       "20                         http://www.steinweible.de/   \n",
       "21                  https://www.plasmascreenhire.com/   \n",
       "22                        https://www.calsoftinc.com/   \n",
       "23               https://www.cascanaconstruction.com/   \n",
       "24              https://www.stchristopherscars.co.uk/   \n",
       "25  https://rocketreach.co/i-galax-web-consultant-...   \n",
       "26                       https://www.access-cash.com/   \n",
       "27  https://www.zoominfo.com/c/rasierteladies/5605...   \n",
       "28  https://www.huaxiataike.com/company/LM1M1BZCWc...   \n",
       "29              https://www.komazawa-u.ac.jp/english/   \n",
       "\n",
       "                                                email                 phone  \n",
       "0                                  E-posta bulunamadı                 51386  \n",
       "1                                  E-posta bulunamadı            1729961995  \n",
       "2                                Zaman aşımına uğradı  Zaman aşımına uğradı  \n",
       "3                                  E-posta bulunamadı             0 0 32 30  \n",
       "4                              info@welltechindia.com                013879  \n",
       "5                                  E-posta bulunamadı               3009200  \n",
       "6                              ostanek.ales@gmail.com              50273344  \n",
       "7                                  E-posta bulunamadı            2012-09-26  \n",
       "8                       John@esteemconsultancy.com.au               400 800  \n",
       "9                                  E-posta bulunamadı             0 0 32 30  \n",
       "10                                  info@smcapital.sm           200513161-1  \n",
       "11                                 E-posta bulunamadı                600 32  \n",
       "12                                 dgambrell@acc1.org             91-0-4472  \n",
       "13                                    bootstrap@4.6.0                 13000  \n",
       "14                                 E-posta bulunamadı             357588958  \n",
       "15                                 E-posta bulunamadı            2024-07-30  \n",
       "16                               info@cepol.europa.eu                 41337  \n",
       "17                                 E-posta bulunamadı             91-0-4472  \n",
       "18                       Michael.DiMaio@ropesgray.com                254920  \n",
       "19                               core-js-bundle@3.2.1             1.14709.0  \n",
       "20                           yvonne.haufler@online.de         1724143388249  \n",
       "21                                 E-posta bulunamadı                101010  \n",
       "22                               Zaman aşımına uğradı  Zaman aşımına uğradı  \n",
       "23                       info@cascanaconstruction.com               2219024  \n",
       "24                                 E-posta bulunamadı                313131  \n",
       "25                                 E-posta bulunamadı                 06611  \n",
       "26                               sales@access-cash.ca       +1 888 289 3939  \n",
       "27  jwt-searchservice@zoominfo-searchservice-1.iam...               400 800  \n",
       "28                               Zaman aşımına uğradı  Zaman aşımına uğradı  \n",
       "29                                 E-posta bulunamadı                261609  "
      ]
     },
     "execution_count": 61,
     "metadata": {},
     "output_type": "execute_result"
    }
   ],
   "source": [
    "deneme = deneme.iloc[:30]\n",
    "deneme"
   ]
  },
  {
   "cell_type": "code",
   "execution_count": 62,
   "id": "2eb00ce7",
   "metadata": {},
   "outputs": [
    {
     "data": {
      "text/plain": [
       "14"
      ]
     },
     "execution_count": 62,
     "metadata": {},
     "output_type": "execute_result"
    }
   ],
   "source": [
    "# 'E-posta bulunamadı' ifadesinin sayısını bulma\n",
    "missing_email_count = deneme['email'].value_counts().get('E-posta bulunamadı', 0)\n",
    "missing_email_count"
   ]
  },
  {
   "cell_type": "code",
   "execution_count": 63,
   "id": "df61006f",
   "metadata": {},
   "outputs": [
    {
     "data": {
      "text/html": [
       "<div>\n",
       "<style scoped>\n",
       "    .dataframe tbody tr th:only-of-type {\n",
       "        vertical-align: middle;\n",
       "    }\n",
       "\n",
       "    .dataframe tbody tr th {\n",
       "        vertical-align: top;\n",
       "    }\n",
       "\n",
       "    .dataframe thead th {\n",
       "        text-align: right;\n",
       "    }\n",
       "</style>\n",
       "<table border=\"1\" class=\"dataframe\">\n",
       "  <thead>\n",
       "    <tr style=\"text-align: right;\">\n",
       "      <th></th>\n",
       "      <th>sirket_adi</th>\n",
       "      <th>website</th>\n",
       "      <th>email</th>\n",
       "      <th>telefon</th>\n",
       "    </tr>\n",
       "  </thead>\n",
       "  <tbody>\n",
       "    <tr>\n",
       "      <th>0</th>\n",
       "      <td>Luminova GmbH</td>\n",
       "      <td>https://luminovo.com/</td>\n",
       "      <td>NaN</td>\n",
       "      <td>NaN</td>\n",
       "    </tr>\n",
       "    <tr>\n",
       "      <th>1</th>\n",
       "      <td>Baja Winery Tours</td>\n",
       "      <td>https://bajawinerytours.com/</td>\n",
       "      <td>bookings@bajawinerytours.com</td>\n",
       "      <td>619) 535-9994</td>\n",
       "    </tr>\n",
       "    <tr>\n",
       "      <th>2</th>\n",
       "      <td>winechina.com</td>\n",
       "      <td>http://www.winechina.com/en/</td>\n",
       "      <td>contact@winechina.com</td>\n",
       "      <td>+86 0535-6646535</td>\n",
       "    </tr>\n",
       "    <tr>\n",
       "      <th>3</th>\n",
       "      <td>Tcp Solutions Plc</td>\n",
       "      <td>https://find-and-update.company-information.se...</td>\n",
       "      <td>NaN</td>\n",
       "      <td>NaN</td>\n",
       "    </tr>\n",
       "    <tr>\n",
       "      <th>4</th>\n",
       "      <td>New Well Tech Industries - India</td>\n",
       "      <td>https://www.welltechindia.com/</td>\n",
       "      <td>info@welltechindia.com</td>\n",
       "      <td>401208</td>\n",
       "    </tr>\n",
       "    <tr>\n",
       "      <th>5</th>\n",
       "      <td>FLAT EARTH SCENERY AND STAGING LIMITED</td>\n",
       "      <td>https://www.flat-earth.co.uk/</td>\n",
       "      <td>hello@flatearth.co.uk</td>\n",
       "      <td>0117 9541102</td>\n",
       "    </tr>\n",
       "    <tr>\n",
       "      <th>6</th>\n",
       "      <td>Enigma Car</td>\n",
       "      <td>https://www.enigma-r.com/</td>\n",
       "      <td>info@enigma-r.com</td>\n",
       "      <td>+386 41 451 754</td>\n",
       "    </tr>\n",
       "    <tr>\n",
       "      <th>7</th>\n",
       "      <td>Cw Auto Body Inc</td>\n",
       "      <td>https://cwautobody.com/</td>\n",
       "      <td>NaN</td>\n",
       "      <td>773) 529-6500</td>\n",
       "    </tr>\n",
       "    <tr>\n",
       "      <th>8</th>\n",
       "      <td>Copyright 2014 Esteem Consultancy</td>\n",
       "      <td>https://www.neverbounce.com/company/esteem-psy...</td>\n",
       "      <td>NaN</td>\n",
       "      <td>NaN</td>\n",
       "    </tr>\n",
       "    <tr>\n",
       "      <th>9</th>\n",
       "      <td>Philorth Plant Services Ltd</td>\n",
       "      <td>https://find-and-update.company-information.se...</td>\n",
       "      <td>NaN</td>\n",
       "      <td>NaN</td>\n",
       "    </tr>\n",
       "    <tr>\n",
       "      <th>10</th>\n",
       "      <td>SM Capital AG</td>\n",
       "      <td>https://www.smcapital.sm/</td>\n",
       "      <td>NaN</td>\n",
       "      <td>NaN</td>\n",
       "    </tr>\n",
       "    <tr>\n",
       "      <th>11</th>\n",
       "      <td>Fahrschule Michael Knoll</td>\n",
       "      <td>https://fahrschule-knoll.eu/</td>\n",
       "      <td>info@fahrschule-knoll.eu</td>\n",
       "      <td>53 63897</td>\n",
       "    </tr>\n",
       "    <tr>\n",
       "      <th>12</th>\n",
       "      <td>Appalachian Community Ent</td>\n",
       "      <td>https://appalachiancommunitycapitalcdfi.org/</td>\n",
       "      <td>dgambrell@acc1.org</td>\n",
       "      <td>202) 547-5155</td>\n",
       "    </tr>\n",
       "    <tr>\n",
       "      <th>13</th>\n",
       "      <td>HAIRSTYLER LIMITED</td>\n",
       "      <td>https://www.thehairstyler.com/</td>\n",
       "      <td>NaN</td>\n",
       "      <td>NaN</td>\n",
       "    </tr>\n",
       "    <tr>\n",
       "      <th>14</th>\n",
       "      <td>Falciani Machine Inc</td>\n",
       "      <td>https://www.govcb.com/government-vendors/profi...</td>\n",
       "      <td>NaN</td>\n",
       "      <td>357588958</td>\n",
       "    </tr>\n",
       "    <tr>\n",
       "      <th>15</th>\n",
       "      <td>Georg Lehmacher</td>\n",
       "      <td>http://georglehmacher.com/</td>\n",
       "      <td>NaN</td>\n",
       "      <td>NaN</td>\n",
       "    </tr>\n",
       "    <tr>\n",
       "      <th>16</th>\n",
       "      <td>Training Police</td>\n",
       "      <td>https://www.cepol.europa.eu/</td>\n",
       "      <td>info@cepol.europa.eu</td>\n",
       "      <td>1 803 8030</td>\n",
       "    </tr>\n",
       "    <tr>\n",
       "      <th>17</th>\n",
       "      <td>13th Beach Osteopathy</td>\n",
       "      <td>https://www.13thbeachhealthservices.com.au/</td>\n",
       "      <td>NaN</td>\n",
       "      <td>5254 2668</td>\n",
       "    </tr>\n",
       "    <tr>\n",
       "      <th>18</th>\n",
       "      <td>Mike Dimaio Sales</td>\n",
       "      <td>https://www.ropesgray.com/en/people/d/michael-...</td>\n",
       "      <td>NaN</td>\n",
       "      <td>+1 617 951 7352</td>\n",
       "    </tr>\n",
       "    <tr>\n",
       "      <th>19</th>\n",
       "      <td>Little Texans</td>\n",
       "      <td>https://www.littletexanschildcarecenter.com/</td>\n",
       "      <td>littletexanschildcarecenter@gmail.com</td>\n",
       "      <td>936) 760</td>\n",
       "    </tr>\n",
       "    <tr>\n",
       "      <th>20</th>\n",
       "      <td>Steinweible</td>\n",
       "      <td>http://www.steinweible.de/</td>\n",
       "      <td>steinweible@online.de</td>\n",
       "      <td>0178 2555 002</td>\n",
       "    </tr>\n",
       "    <tr>\n",
       "      <th>21</th>\n",
       "      <td>Plasma Hire Ltd</td>\n",
       "      <td>https://www.plasmascreenhire.com/</td>\n",
       "      <td>hello@tmsavhire.co.uk</td>\n",
       "      <td>01257781186</td>\n",
       "    </tr>\n",
       "    <tr>\n",
       "      <th>22</th>\n",
       "      <td>CALSOFT PRIVATE LIMITED</td>\n",
       "      <td>https://www.calsoftinc.com/</td>\n",
       "      <td>NaN</td>\n",
       "      <td>NaN</td>\n",
       "    </tr>\n",
       "    <tr>\n",
       "      <th>23</th>\n",
       "      <td>Cascana Construction Inc</td>\n",
       "      <td>https://www.cascanaconstruction.com/</td>\n",
       "      <td>info@cascanaconstruction.com</td>\n",
       "      <td>604) 754-4398</td>\n",
       "    </tr>\n",
       "    <tr>\n",
       "      <th>24</th>\n",
       "      <td>ST. CHRISTOPHERS MOTOR COMPANY LIMITED</td>\n",
       "      <td>https://www.stchristopherscars.co.uk/</td>\n",
       "      <td>NaN</td>\n",
       "      <td>NaN</td>\n",
       "    </tr>\n",
       "    <tr>\n",
       "      <th>25</th>\n",
       "      <td>I-Galax Web Consultant Pvt Ltd - ADsTag.com</td>\n",
       "      <td>https://rocketreach.co/i-galax-web-consultant-...</td>\n",
       "      <td>NaN</td>\n",
       "      <td>NaN</td>\n",
       "    </tr>\n",
       "    <tr>\n",
       "      <th>26</th>\n",
       "      <td>Access Cash Canada Co</td>\n",
       "      <td>https://www.access-cash.com/</td>\n",
       "      <td>NaN</td>\n",
       "      <td>1 416 247</td>\n",
       "    </tr>\n",
       "    <tr>\n",
       "      <th>27</th>\n",
       "      <td>Rasierteladies</td>\n",
       "      <td>https://m.rasierteladies.de/cookies</td>\n",
       "      <td>NaN</td>\n",
       "      <td>NaN</td>\n",
       "    </tr>\n",
       "    <tr>\n",
       "      <th>28</th>\n",
       "      <td>深圳市铂恩科技有限公司</td>\n",
       "      <td>https://www.huaxiataike.com/company/LM1M1BZCWc...</td>\n",
       "      <td>NaN</td>\n",
       "      <td>NaN</td>\n",
       "    </tr>\n",
       "    <tr>\n",
       "      <th>29</th>\n",
       "      <td>Komazawa University</td>\n",
       "      <td>https://www.komazawa-u.ac.jp/english/</td>\n",
       "      <td>kokusaicenter@komazawa-u.ac.jp</td>\n",
       "      <td>3-3418-9048</td>\n",
       "    </tr>\n",
       "  </tbody>\n",
       "</table>\n",
       "</div>"
      ],
      "text/plain": [
       "                                     sirket_adi  \\\n",
       "0                                 Luminova GmbH   \n",
       "1                             Baja Winery Tours   \n",
       "2                                 winechina.com   \n",
       "3                             Tcp Solutions Plc   \n",
       "4              New Well Tech Industries - India   \n",
       "5        FLAT EARTH SCENERY AND STAGING LIMITED   \n",
       "6                                    Enigma Car   \n",
       "7                              Cw Auto Body Inc   \n",
       "8             Copyright 2014 Esteem Consultancy   \n",
       "9                   Philorth Plant Services Ltd   \n",
       "10                                SM Capital AG   \n",
       "11                     Fahrschule Michael Knoll   \n",
       "12                    Appalachian Community Ent   \n",
       "13                           HAIRSTYLER LIMITED   \n",
       "14                         Falciani Machine Inc   \n",
       "15                              Georg Lehmacher   \n",
       "16                              Training Police   \n",
       "17                        13th Beach Osteopathy   \n",
       "18                            Mike Dimaio Sales   \n",
       "19                                Little Texans   \n",
       "20                                  Steinweible   \n",
       "21                              Plasma Hire Ltd   \n",
       "22                      CALSOFT PRIVATE LIMITED   \n",
       "23                     Cascana Construction Inc   \n",
       "24       ST. CHRISTOPHERS MOTOR COMPANY LIMITED   \n",
       "25  I-Galax Web Consultant Pvt Ltd - ADsTag.com   \n",
       "26                        Access Cash Canada Co   \n",
       "27                               Rasierteladies   \n",
       "28                                  深圳市铂恩科技有限公司   \n",
       "29                          Komazawa University   \n",
       "\n",
       "                                              website  \\\n",
       "0                               https://luminovo.com/   \n",
       "1                        https://bajawinerytours.com/   \n",
       "2                        http://www.winechina.com/en/   \n",
       "3   https://find-and-update.company-information.se...   \n",
       "4                      https://www.welltechindia.com/   \n",
       "5                       https://www.flat-earth.co.uk/   \n",
       "6                           https://www.enigma-r.com/   \n",
       "7                             https://cwautobody.com/   \n",
       "8   https://www.neverbounce.com/company/esteem-psy...   \n",
       "9   https://find-and-update.company-information.se...   \n",
       "10                          https://www.smcapital.sm/   \n",
       "11                       https://fahrschule-knoll.eu/   \n",
       "12       https://appalachiancommunitycapitalcdfi.org/   \n",
       "13                     https://www.thehairstyler.com/   \n",
       "14  https://www.govcb.com/government-vendors/profi...   \n",
       "15                         http://georglehmacher.com/   \n",
       "16                       https://www.cepol.europa.eu/   \n",
       "17        https://www.13thbeachhealthservices.com.au/   \n",
       "18  https://www.ropesgray.com/en/people/d/michael-...   \n",
       "19       https://www.littletexanschildcarecenter.com/   \n",
       "20                         http://www.steinweible.de/   \n",
       "21                  https://www.plasmascreenhire.com/   \n",
       "22                        https://www.calsoftinc.com/   \n",
       "23               https://www.cascanaconstruction.com/   \n",
       "24              https://www.stchristopherscars.co.uk/   \n",
       "25  https://rocketreach.co/i-galax-web-consultant-...   \n",
       "26                       https://www.access-cash.com/   \n",
       "27                https://m.rasierteladies.de/cookies   \n",
       "28  https://www.huaxiataike.com/company/LM1M1BZCWc...   \n",
       "29              https://www.komazawa-u.ac.jp/english/   \n",
       "\n",
       "                                    email           telefon  \n",
       "0                                     NaN               NaN  \n",
       "1            bookings@bajawinerytours.com     619) 535-9994  \n",
       "2                   contact@winechina.com  +86 0535-6646535  \n",
       "3                                     NaN               NaN  \n",
       "4                  info@welltechindia.com            401208  \n",
       "5                   hello@flatearth.co.uk      0117 9541102  \n",
       "6                       info@enigma-r.com   +386 41 451 754  \n",
       "7                                     NaN     773) 529-6500  \n",
       "8                                     NaN               NaN  \n",
       "9                                     NaN               NaN  \n",
       "10                                    NaN               NaN  \n",
       "11               info@fahrschule-knoll.eu          53 63897  \n",
       "12                     dgambrell@acc1.org     202) 547-5155  \n",
       "13                                    NaN               NaN  \n",
       "14                                    NaN         357588958  \n",
       "15                                    NaN               NaN  \n",
       "16                   info@cepol.europa.eu        1 803 8030  \n",
       "17                                    NaN         5254 2668  \n",
       "18                                    NaN   +1 617 951 7352  \n",
       "19  littletexanschildcarecenter@gmail.com          936) 760  \n",
       "20                  steinweible@online.de     0178 2555 002  \n",
       "21                  hello@tmsavhire.co.uk       01257781186  \n",
       "22                                    NaN               NaN  \n",
       "23           info@cascanaconstruction.com     604) 754-4398  \n",
       "24                                    NaN               NaN  \n",
       "25                                    NaN               NaN  \n",
       "26                                    NaN         1 416 247  \n",
       "27                                    NaN               NaN  \n",
       "28                                    NaN               NaN  \n",
       "29         kokusaicenter@komazawa-u.ac.jp       3-3418-9048  "
      ]
     },
     "execution_count": 63,
     "metadata": {},
     "output_type": "execute_result"
    }
   ],
   "source": [
    "dork_veri = dork_sonuclar.iloc[:30]\n",
    "dork_veri"
   ]
  },
  {
   "cell_type": "code",
   "execution_count": 64,
   "id": "b4abf16f",
   "metadata": {},
   "outputs": [
    {
     "name": "stdout",
     "output_type": "stream",
     "text": [
      "<class 'pandas.core.frame.DataFrame'>\n",
      "RangeIndex: 30 entries, 0 to 29\n",
      "Data columns (total 4 columns):\n",
      " #   Column      Non-Null Count  Dtype \n",
      "---  ------      --------------  ----- \n",
      " 0   sirket_adi  30 non-null     object\n",
      " 1   website     30 non-null     object\n",
      " 2   email       13 non-null     object\n",
      " 3   telefon     18 non-null     object\n",
      "dtypes: object(4)\n",
      "memory usage: 1.1+ KB\n"
     ]
    }
   ],
   "source": [
    "dork_veri.info()"
   ]
  },
  {
   "cell_type": "code",
   "execution_count": 65,
   "id": "f6bc0104",
   "metadata": {},
   "outputs": [
    {
     "name": "stdout",
     "output_type": "stream",
     "text": [
      "<class 'pandas.core.frame.DataFrame'>\n",
      "RangeIndex: 25000 entries, 0 to 24999\n",
      "Data columns (total 4 columns):\n",
      " #   Column      Non-Null Count  Dtype \n",
      "---  ------      --------------  ----- \n",
      " 0   sirket_adi  24993 non-null  object\n",
      " 1   website     24939 non-null  object\n",
      " 2   email       12077 non-null  object\n",
      " 3   telefon     14482 non-null  object\n",
      "dtypes: object(4)\n",
      "memory usage: 781.4+ KB\n"
     ]
    }
   ],
   "source": [
    "dork_sonuclar.info()"
   ]
  },
  {
   "cell_type": "code",
   "execution_count": 66,
   "id": "0d2f06be",
   "metadata": {},
   "outputs": [
    {
     "data": {
      "text/plain": [
       "0.48308"
      ]
     },
     "execution_count": 66,
     "metadata": {},
     "output_type": "execute_result"
    }
   ],
   "source": [
    "# email\n",
    "12077 / 25000"
   ]
  },
  {
   "cell_type": "code",
   "execution_count": 67,
   "id": "1a059e49",
   "metadata": {},
   "outputs": [
    {
     "data": {
      "text/plain": [
       "0.57928"
      ]
     },
     "execution_count": 67,
     "metadata": {},
     "output_type": "execute_result"
    }
   ],
   "source": [
    "#telefon\n",
    "14482 / 25000"
   ]
  },
  {
   "cell_type": "code",
   "execution_count": null,
   "id": "8d08ca27",
   "metadata": {},
   "outputs": [],
   "source": []
  }
 ],
 "metadata": {
  "kernelspec": {
   "display_name": "Python 3 (ipykernel)",
   "language": "python",
   "name": "python3"
  },
  "language_info": {
   "codemirror_mode": {
    "name": "ipython",
    "version": 3
   },
   "file_extension": ".py",
   "mimetype": "text/x-python",
   "name": "python",
   "nbconvert_exporter": "python",
   "pygments_lexer": "ipython3",
   "version": "3.11.5"
  }
 },
 "nbformat": 4,
 "nbformat_minor": 5
}
